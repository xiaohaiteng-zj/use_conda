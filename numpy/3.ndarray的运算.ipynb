{
 "cells": [
  {
   "cell_type": "markdown",
   "id": "882a288e",
   "metadata": {},
   "source": [
    "# 逻辑运算"
   ]
  },
  {
   "cell_type": "code",
   "execution_count": 1,
   "id": "636f6255",
   "metadata": {},
   "outputs": [],
   "source": [
    "import numpy as np"
   ]
  },
  {
   "cell_type": "code",
   "execution_count": 2,
   "id": "548cb2f9",
   "metadata": {},
   "outputs": [],
   "source": [
    "score = np.random.randint(40, 100, [10, 5])"
   ]
  },
  {
   "cell_type": "code",
   "execution_count": 3,
   "id": "e507c89e",
   "metadata": {},
   "outputs": [
    {
     "data": {
      "text/plain": [
       "array([[43, 65, 42, 91, 46],\n",
       "       [59, 57, 42, 99, 48],\n",
       "       [53, 53, 90, 52, 47],\n",
       "       [86, 53, 43, 50, 87],\n",
       "       [85, 91, 55, 54, 60],\n",
       "       [53, 53, 67, 67, 62],\n",
       "       [56, 96, 42, 54, 58],\n",
       "       [84, 62, 69, 89, 48],\n",
       "       [70, 60, 78, 83, 47],\n",
       "       [98, 44, 80, 69, 88]])"
      ]
     },
     "execution_count": 3,
     "metadata": {},
     "output_type": "execute_result"
    }
   ],
   "source": [
    "score"
   ]
  },
  {
   "cell_type": "code",
   "execution_count": 4,
   "id": "6d5daf36",
   "metadata": {},
   "outputs": [],
   "source": [
    "test_score = score[6:, 0:5]"
   ]
  },
  {
   "cell_type": "code",
   "execution_count": 5,
   "id": "acf225d4",
   "metadata": {},
   "outputs": [
    {
     "data": {
      "text/plain": [
       "array([[56, 96, 42, 54, 58],\n",
       "       [84, 62, 69, 89, 48],\n",
       "       [70, 60, 78, 83, 47],\n",
       "       [98, 44, 80, 69, 88]])"
      ]
     },
     "execution_count": 5,
     "metadata": {},
     "output_type": "execute_result"
    }
   ],
   "source": [
    "test_score"
   ]
  },
  {
   "cell_type": "code",
   "execution_count": 6,
   "id": "740741d3",
   "metadata": {},
   "outputs": [
    {
     "data": {
      "text/plain": [
       "array([[False,  True, False, False, False],\n",
       "       [ True,  True,  True,  True, False],\n",
       "       [ True, False,  True,  True, False],\n",
       "       [ True, False,  True,  True,  True]])"
      ]
     },
     "execution_count": 6,
     "metadata": {},
     "output_type": "execute_result"
    }
   ],
   "source": [
    "test_score > 60"
   ]
  },
  {
   "cell_type": "code",
   "execution_count": 7,
   "id": "d16f9299",
   "metadata": {},
   "outputs": [],
   "source": [
    "test_score[test_score > 60] = 1"
   ]
  },
  {
   "cell_type": "code",
   "execution_count": 8,
   "id": "abe49fc4",
   "metadata": {},
   "outputs": [
    {
     "data": {
      "text/plain": [
       "array([[56,  1, 42, 54, 58],\n",
       "       [ 1,  1,  1,  1, 48],\n",
       "       [ 1, 60,  1,  1, 47],\n",
       "       [ 1, 44,  1,  1,  1]])"
      ]
     },
     "execution_count": 8,
     "metadata": {},
     "output_type": "execute_result"
    }
   ],
   "source": [
    "test_score"
   ]
  },
  {
   "cell_type": "markdown",
   "id": "082f96c4",
   "metadata": {},
   "source": [
    "# 通用判断函数"
   ]
  },
  {
   "cell_type": "code",
   "execution_count": 9,
   "id": "b8d73e94",
   "metadata": {},
   "outputs": [
    {
     "data": {
      "text/plain": [
       "False"
      ]
     },
     "execution_count": 9,
     "metadata": {},
     "output_type": "execute_result"
    }
   ],
   "source": [
    "np.all(score[0:2, :] > 60)"
   ]
  },
  {
   "cell_type": "code",
   "execution_count": 10,
   "id": "be396da0",
   "metadata": {},
   "outputs": [
    {
     "data": {
      "text/plain": [
       "True"
      ]
     },
     "execution_count": 10,
     "metadata": {},
     "output_type": "execute_result"
    }
   ],
   "source": [
    "np.any(score[0:2, :] > 60)"
   ]
  },
  {
   "cell_type": "markdown",
   "id": "2d03aba1",
   "metadata": {},
   "source": [
    "# 三元运算符"
   ]
  },
  {
   "cell_type": "code",
   "execution_count": 11,
   "id": "2e3320dd",
   "metadata": {},
   "outputs": [
    {
     "data": {
      "text/plain": [
       "array([[43, 65, 42, 91, 46],\n",
       "       [59, 57, 42, 99, 48],\n",
       "       [53, 53, 90, 52, 47],\n",
       "       [86, 53, 43, 50, 87],\n",
       "       [85, 91, 55, 54, 60],\n",
       "       [53, 53, 67, 67, 62],\n",
       "       [56,  1, 42, 54, 58],\n",
       "       [ 1,  1,  1,  1, 48],\n",
       "       [ 1, 60,  1,  1, 47],\n",
       "       [ 1, 44,  1,  1,  1]])"
      ]
     },
     "execution_count": 11,
     "metadata": {},
     "output_type": "execute_result"
    }
   ],
   "source": [
    "score"
   ]
  },
  {
   "cell_type": "code",
   "execution_count": 12,
   "id": "7ca61f37",
   "metadata": {},
   "outputs": [],
   "source": [
    "tmp = score[:4, :4]"
   ]
  },
  {
   "cell_type": "code",
   "execution_count": 13,
   "id": "6c8b2d25",
   "metadata": {},
   "outputs": [
    {
     "data": {
      "text/plain": [
       "array([[43, 65, 42, 91],\n",
       "       [59, 57, 42, 99],\n",
       "       [53, 53, 90, 52],\n",
       "       [86, 53, 43, 50]])"
      ]
     },
     "execution_count": 13,
     "metadata": {},
     "output_type": "execute_result"
    }
   ],
   "source": [
    "tmp"
   ]
  },
  {
   "cell_type": "code",
   "execution_count": 14,
   "id": "dbf75352",
   "metadata": {},
   "outputs": [
    {
     "data": {
      "text/plain": [
       "array([[0, 1, 0, 1],\n",
       "       [0, 0, 0, 1],\n",
       "       [0, 0, 1, 0],\n",
       "       [1, 0, 0, 0]])"
      ]
     },
     "execution_count": 14,
     "metadata": {},
     "output_type": "execute_result"
    }
   ],
   "source": [
    "np.where(tmp>60, 1, 0)"
   ]
  },
  {
   "cell_type": "code",
   "execution_count": 15,
   "id": "7001d72f",
   "metadata": {},
   "outputs": [
    {
     "data": {
      "text/plain": [
       "array([[43, 65, 42, 91],\n",
       "       [59, 57, 42, 99],\n",
       "       [53, 53, 90, 52],\n",
       "       [86, 53, 43, 50]])"
      ]
     },
     "execution_count": 15,
     "metadata": {},
     "output_type": "execute_result"
    }
   ],
   "source": [
    "tmp"
   ]
  },
  {
   "cell_type": "code",
   "execution_count": 16,
   "id": "de4b75c2",
   "metadata": {},
   "outputs": [
    {
     "data": {
      "text/plain": [
       "array([[0, 1, 0, 0],\n",
       "       [0, 0, 0, 0],\n",
       "       [0, 0, 0, 0],\n",
       "       [1, 0, 0, 0]])"
      ]
     },
     "execution_count": 16,
     "metadata": {},
     "output_type": "execute_result"
    }
   ],
   "source": [
    "np.where(np.logical_and(tmp>60, tmp<90), 1, 0)"
   ]
  },
  {
   "cell_type": "code",
   "execution_count": 17,
   "id": "8753e039",
   "metadata": {},
   "outputs": [
    {
     "data": {
      "text/plain": [
       "array([[1, 0, 1, 1],\n",
       "       [1, 1, 1, 1],\n",
       "       [1, 1, 0, 1],\n",
       "       [0, 1, 1, 1]])"
      ]
     },
     "execution_count": 17,
     "metadata": {},
     "output_type": "execute_result"
    }
   ],
   "source": [
    "np.where(np.logical_or(tmp>90, tmp<60), 1, 0)"
   ]
  },
  {
   "cell_type": "markdown",
   "id": "c7e1f54c",
   "metadata": {},
   "source": [
    "# 统计运算"
   ]
  },
  {
   "cell_type": "code",
   "execution_count": 18,
   "id": "d8545734",
   "metadata": {},
   "outputs": [],
   "source": [
    "tmp = score[:4, :5]"
   ]
  },
  {
   "cell_type": "code",
   "execution_count": 19,
   "id": "96f4dfc7",
   "metadata": {},
   "outputs": [
    {
     "data": {
      "text/plain": [
       "array([[43, 65, 42, 91, 46],\n",
       "       [59, 57, 42, 99, 48],\n",
       "       [53, 53, 90, 52, 47],\n",
       "       [86, 53, 43, 50, 87]])"
      ]
     },
     "execution_count": 19,
     "metadata": {},
     "output_type": "execute_result"
    }
   ],
   "source": [
    "tmp"
   ]
  },
  {
   "cell_type": "code",
   "execution_count": 20,
   "id": "f21e127d",
   "metadata": {},
   "outputs": [
    {
     "data": {
      "text/plain": [
       "99"
      ]
     },
     "execution_count": 20,
     "metadata": {},
     "output_type": "execute_result"
    }
   ],
   "source": [
    "np.max(tmp)"
   ]
  },
  {
   "cell_type": "code",
   "execution_count": 21,
   "id": "de203583",
   "metadata": {},
   "outputs": [
    {
     "data": {
      "text/plain": [
       "42"
      ]
     },
     "execution_count": 21,
     "metadata": {},
     "output_type": "execute_result"
    }
   ],
   "source": [
    "np.min(tmp)"
   ]
  },
  {
   "cell_type": "code",
   "execution_count": 22,
   "id": "84afb4f6",
   "metadata": {},
   "outputs": [
    {
     "data": {
      "text/plain": [
       "60.3"
      ]
     },
     "execution_count": 22,
     "metadata": {},
     "output_type": "execute_result"
    }
   ],
   "source": [
    "np.mean(tmp)"
   ]
  },
  {
   "cell_type": "code",
   "execution_count": 23,
   "id": "dd153b37",
   "metadata": {},
   "outputs": [
    {
     "data": {
      "text/plain": [
       "array([86, 65, 90, 99, 87])"
      ]
     },
     "execution_count": 23,
     "metadata": {},
     "output_type": "execute_result"
    }
   ],
   "source": [
    "np.max(tmp, axis=0)"
   ]
  },
  {
   "cell_type": "code",
   "execution_count": 24,
   "id": "edff2576",
   "metadata": {},
   "outputs": [
    {
     "data": {
      "text/plain": [
       "array([91, 99, 90, 87])"
      ]
     },
     "execution_count": 24,
     "metadata": {},
     "output_type": "execute_result"
    }
   ],
   "source": [
    "np.max(tmp, axis=1)"
   ]
  },
  {
   "cell_type": "code",
   "execution_count": 25,
   "id": "a0899fd1",
   "metadata": {},
   "outputs": [
    {
     "data": {
      "text/plain": [
       "8"
      ]
     },
     "execution_count": 25,
     "metadata": {},
     "output_type": "execute_result"
    }
   ],
   "source": [
    "np.argmax(tmp)"
   ]
  },
  {
   "cell_type": "code",
   "execution_count": 26,
   "id": "c02e176e",
   "metadata": {},
   "outputs": [
    {
     "data": {
      "text/plain": [
       "2"
      ]
     },
     "execution_count": 26,
     "metadata": {},
     "output_type": "execute_result"
    }
   ],
   "source": [
    "np.argmin(tmp)"
   ]
  },
  {
   "cell_type": "code",
   "execution_count": 27,
   "id": "a5fe3f35",
   "metadata": {},
   "outputs": [
    {
     "data": {
      "text/plain": [
       "array([3, 0, 2, 1, 3], dtype=int64)"
      ]
     },
     "execution_count": 27,
     "metadata": {},
     "output_type": "execute_result"
    }
   ],
   "source": [
    "np.argmax(tmp, axis=0)"
   ]
  },
  {
   "cell_type": "markdown",
   "id": "ccf5e630",
   "metadata": {},
   "source": [
    "# 数组间的运算"
   ]
  },
  {
   "cell_type": "markdown",
   "id": "9921a055",
   "metadata": {},
   "source": [
    "## 数组与数之间的运算"
   ]
  },
  {
   "cell_type": "code",
   "execution_count": 28,
   "id": "88282a34",
   "metadata": {},
   "outputs": [],
   "source": [
    "a = np.array([[1, 2, 3], [3, 4, 5]])"
   ]
  },
  {
   "cell_type": "code",
   "execution_count": 29,
   "id": "718bac18",
   "metadata": {},
   "outputs": [
    {
     "data": {
      "text/plain": [
       "array([[1, 2, 3],\n",
       "       [3, 4, 5]])"
      ]
     },
     "execution_count": 29,
     "metadata": {},
     "output_type": "execute_result"
    }
   ],
   "source": [
    "a"
   ]
  },
  {
   "cell_type": "code",
   "execution_count": 30,
   "id": "ab2413d6",
   "metadata": {},
   "outputs": [
    {
     "data": {
      "text/plain": [
       "array([[2, 3, 4],\n",
       "       [4, 5, 6]])"
      ]
     },
     "execution_count": 30,
     "metadata": {},
     "output_type": "execute_result"
    }
   ],
   "source": [
    "a + 1"
   ]
  },
  {
   "cell_type": "code",
   "execution_count": 31,
   "id": "b17ce9a9",
   "metadata": {},
   "outputs": [
    {
     "data": {
      "text/plain": [
       "array([[1, 2, 3],\n",
       "       [3, 4, 5]])"
      ]
     },
     "execution_count": 31,
     "metadata": {},
     "output_type": "execute_result"
    }
   ],
   "source": [
    "a"
   ]
  },
  {
   "cell_type": "code",
   "execution_count": 32,
   "id": "6c4bdf4f",
   "metadata": {},
   "outputs": [
    {
     "data": {
      "text/plain": [
       "array([[ 2,  4,  6],\n",
       "       [ 6,  8, 10]])"
      ]
     },
     "execution_count": 32,
     "metadata": {},
     "output_type": "execute_result"
    }
   ],
   "source": [
    "a * 2"
   ]
  },
  {
   "cell_type": "markdown",
   "id": "8d6dbf17",
   "metadata": {},
   "source": [
    "## 数组与数组之间的运算"
   ]
  },
  {
   "cell_type": "code",
   "execution_count": 33,
   "id": "c30c0bf2",
   "metadata": {},
   "outputs": [],
   "source": [
    "arr1 = np.array([[1, 2, 3, 2, 1, 4], [5, 6, 1, 2, 3, 1]])\n",
    "arr2 = np.array([[1, 2, 3, 4], [3, 4, 5, 6]])"
   ]
  },
  {
   "cell_type": "code",
   "execution_count": 34,
   "id": "98bca136",
   "metadata": {},
   "outputs": [
    {
     "data": {
      "text/plain": [
       "array([[1, 2, 3, 2, 1, 4],\n",
       "       [5, 6, 1, 2, 3, 1]])"
      ]
     },
     "execution_count": 34,
     "metadata": {},
     "output_type": "execute_result"
    }
   ],
   "source": [
    "arr1"
   ]
  },
  {
   "cell_type": "code",
   "execution_count": 35,
   "id": "19995ba7",
   "metadata": {},
   "outputs": [
    {
     "data": {
      "text/plain": [
       "array([[1, 2, 3, 4],\n",
       "       [3, 4, 5, 6]])"
      ]
     },
     "execution_count": 35,
     "metadata": {},
     "output_type": "execute_result"
    }
   ],
   "source": [
    "arr2"
   ]
  },
  {
   "cell_type": "code",
   "execution_count": 36,
   "id": "816d536d",
   "metadata": {},
   "outputs": [],
   "source": [
    "# arr1 + arr2  # 不可以计算"
   ]
  },
  {
   "cell_type": "markdown",
   "id": "7759093f",
   "metadata": {},
   "source": [
    "# 矩阵的运算"
   ]
  },
  {
   "cell_type": "code",
   "execution_count": 42,
   "id": "4d2cf329",
   "metadata": {},
   "outputs": [],
   "source": [
    "array1=np.array([[80, 86], [90, 96], [85, 94], [88, 90]]) "
   ]
  },
  {
   "cell_type": "code",
   "execution_count": 43,
   "id": "35dd93f7",
   "metadata": {},
   "outputs": [
    {
     "data": {
      "text/plain": [
       "array([[80, 86],\n",
       "       [90, 96],\n",
       "       [85, 94],\n",
       "       [88, 90]])"
      ]
     },
     "execution_count": 43,
     "metadata": {},
     "output_type": "execute_result"
    }
   ],
   "source": [
    "array1"
   ]
  },
  {
   "cell_type": "code",
   "execution_count": 44,
   "id": "4508b9f7",
   "metadata": {},
   "outputs": [
    {
     "data": {
      "text/plain": [
       "(4, 2)"
      ]
     },
     "execution_count": 44,
     "metadata": {},
     "output_type": "execute_result"
    }
   ],
   "source": [
    "array1.shape"
   ]
  },
  {
   "cell_type": "code",
   "execution_count": 45,
   "id": "a3a11fd4",
   "metadata": {},
   "outputs": [],
   "source": [
    "array2 = np.array([[0.7], [0.3]])"
   ]
  },
  {
   "cell_type": "code",
   "execution_count": 46,
   "id": "a4b2a2f7",
   "metadata": {},
   "outputs": [
    {
     "data": {
      "text/plain": [
       "array([[0.7],\n",
       "       [0.3]])"
      ]
     },
     "execution_count": 46,
     "metadata": {},
     "output_type": "execute_result"
    }
   ],
   "source": [
    "array2"
   ]
  },
  {
   "cell_type": "code",
   "execution_count": 48,
   "id": "19fe6c45",
   "metadata": {},
   "outputs": [
    {
     "data": {
      "text/plain": [
       "(2, 1)"
      ]
     },
     "execution_count": 48,
     "metadata": {},
     "output_type": "execute_result"
    }
   ],
   "source": [
    "array2.shape"
   ]
  },
  {
   "cell_type": "code",
   "execution_count": 50,
   "id": "bd7a23e3",
   "metadata": {},
   "outputs": [],
   "source": [
    "array = np.matmul(array1, array2)"
   ]
  },
  {
   "cell_type": "code",
   "execution_count": 51,
   "id": "1db4eae7",
   "metadata": {},
   "outputs": [
    {
     "data": {
      "text/plain": [
       "array([[81.8],\n",
       "       [91.8],\n",
       "       [87.7],\n",
       "       [88.6]])"
      ]
     },
     "execution_count": 51,
     "metadata": {},
     "output_type": "execute_result"
    }
   ],
   "source": [
    "array"
   ]
  },
  {
   "cell_type": "code",
   "execution_count": 52,
   "id": "d9bbb725",
   "metadata": {},
   "outputs": [
    {
     "data": {
      "text/plain": [
       "array([[81.8],\n",
       "       [91.8],\n",
       "       [87.7],\n",
       "       [88.6]])"
      ]
     },
     "execution_count": 52,
     "metadata": {},
     "output_type": "execute_result"
    }
   ],
   "source": [
    "np.dot(array1, array2)"
   ]
  },
  {
   "cell_type": "code",
   "execution_count": 53,
   "id": "bafa3b2d",
   "metadata": {},
   "outputs": [
    {
     "data": {
      "text/plain": [
       "array([[800, 860],\n",
       "       [900, 960],\n",
       "       [850, 940],\n",
       "       [880, 900]])"
      ]
     },
     "execution_count": 53,
     "metadata": {},
     "output_type": "execute_result"
    }
   ],
   "source": [
    "np.dot(array1, 10)"
   ]
  },
  {
   "cell_type": "code",
   "execution_count": 55,
   "id": "b5d05609",
   "metadata": {},
   "outputs": [],
   "source": [
    "# np.matmul(array1, 10)   # matmul不支持矩阵与标量的相乘"
   ]
  },
  {
   "cell_type": "code",
   "execution_count": null,
   "id": "e31d281a",
   "metadata": {},
   "outputs": [],
   "source": []
  }
 ],
 "metadata": {
  "kernelspec": {
   "display_name": "Python 3 (ipykernel)",
   "language": "python",
   "name": "python3"
  },
  "language_info": {
   "codemirror_mode": {
    "name": "ipython",
    "version": 3
   },
   "file_extension": ".py",
   "mimetype": "text/x-python",
   "name": "python",
   "nbconvert_exporter": "python",
   "pygments_lexer": "ipython3",
   "version": "3.7.10"
  },
  "toc": {
   "base_numbering": 1,
   "nav_menu": {},
   "number_sections": true,
   "sideBar": true,
   "skip_h1_title": false,
   "title_cell": "Table of Contents",
   "title_sidebar": "Contents",
   "toc_cell": false,
   "toc_position": {},
   "toc_section_display": true,
   "toc_window_display": true
  }
 },
 "nbformat": 4,
 "nbformat_minor": 5
}
