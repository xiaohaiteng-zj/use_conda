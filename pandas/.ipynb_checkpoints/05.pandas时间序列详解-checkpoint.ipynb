{
 "cells": [
  {
   "cell_type": "code",
   "execution_count": 1,
   "id": "34efed6b",
   "metadata": {},
   "outputs": [],
   "source": [
    "import numpy as np\n",
    "import pandas as pd"
   ]
  },
  {
   "cell_type": "markdown",
   "id": "565d301d",
   "metadata": {},
   "source": [
    "# 获取当前时间"
   ]
  },
  {
   "cell_type": "code",
   "execution_count": 2,
   "id": "faf26465",
   "metadata": {},
   "outputs": [],
   "source": [
    "from datetime import datetime"
   ]
  },
  {
   "cell_type": "code",
   "execution_count": 3,
   "id": "fbfb5ef0",
   "metadata": {},
   "outputs": [],
   "source": [
    "a = datetime.now()"
   ]
  },
  {
   "cell_type": "code",
   "execution_count": 4,
   "id": "4a582860",
   "metadata": {},
   "outputs": [
    {
     "data": {
      "text/plain": [
       "datetime.datetime(2022, 1, 25, 18, 4, 38, 688568)"
      ]
     },
     "execution_count": 4,
     "metadata": {},
     "output_type": "execute_result"
    }
   ],
   "source": [
    "a"
   ]
  },
  {
   "cell_type": "markdown",
   "id": "402beee6",
   "metadata": {},
   "source": [
    "# 创建时间戳"
   ]
  },
  {
   "cell_type": "code",
   "execution_count": 5,
   "id": "aa227506",
   "metadata": {},
   "outputs": [
    {
     "data": {
      "text/plain": [
       "Timestamp('2022-01-25 00:00:00')"
      ]
     },
     "execution_count": 5,
     "metadata": {},
     "output_type": "execute_result"
    }
   ],
   "source": [
    "pd.Timestamp(\"2022-1-25\")"
   ]
  },
  {
   "cell_type": "code",
   "execution_count": 6,
   "id": "1a9cd37c",
   "metadata": {},
   "outputs": [
    {
     "data": {
      "text/plain": [
       "Timestamp('2020-04-24 00:14:15')"
      ]
     },
     "execution_count": 6,
     "metadata": {},
     "output_type": "execute_result"
    }
   ],
   "source": [
    "pd.Timestamp(1587687255,unit='s')"
   ]
  },
  {
   "cell_type": "markdown",
   "id": "f227192b",
   "metadata": {},
   "source": [
    "# 创建时间范围"
   ]
  },
  {
   "cell_type": "code",
   "execution_count": 7,
   "id": "c593b62a",
   "metadata": {},
   "outputs": [
    {
     "data": {
      "text/plain": [
       "DatetimeIndex(['2022-01-01', '2022-01-02', '2022-01-03', '2022-01-04',\n",
       "               '2022-01-05', '2022-01-06', '2022-01-07', '2022-01-08',\n",
       "               '2022-01-09', '2022-01-10', '2022-01-11', '2022-01-12',\n",
       "               '2022-01-13', '2022-01-14', '2022-01-15', '2022-01-16',\n",
       "               '2022-01-17', '2022-01-18', '2022-01-19', '2022-01-20',\n",
       "               '2022-01-21', '2022-01-22', '2022-01-23', '2022-01-24',\n",
       "               '2022-01-25', '2022-01-26', '2022-01-27', '2022-01-28',\n",
       "               '2022-01-29', '2022-01-30', '2022-01-31', '2022-02-01',\n",
       "               '2022-02-02', '2022-02-03', '2022-02-04', '2022-02-05',\n",
       "               '2022-02-06', '2022-02-07', '2022-02-08', '2022-02-09',\n",
       "               '2022-02-10', '2022-02-11', '2022-02-12', '2022-02-13',\n",
       "               '2022-02-14', '2022-02-15', '2022-02-16', '2022-02-17',\n",
       "               '2022-02-18', '2022-02-19', '2022-02-20', '2022-02-21',\n",
       "               '2022-02-22', '2022-02-23', '2022-02-24', '2022-02-25',\n",
       "               '2022-02-26', '2022-02-27', '2022-02-28', '2022-03-01'],\n",
       "              dtype='datetime64[ns]', freq='D')"
      ]
     },
     "execution_count": 7,
     "metadata": {},
     "output_type": "execute_result"
    }
   ],
   "source": [
    "pd.date_range(\"2022-1-1\", \"2022-3-1\")"
   ]
  },
  {
   "cell_type": "markdown",
   "id": "057341ad",
   "metadata": {},
   "source": [
    "# 更改时间频率"
   ]
  },
  {
   "cell_type": "code",
   "execution_count": 8,
   "id": "9d593644",
   "metadata": {},
   "outputs": [
    {
     "data": {
      "text/plain": [
       "DatetimeIndex(['2022-01-01 00:00:00', '2022-01-01 01:00:00',\n",
       "               '2022-01-01 02:00:00', '2022-01-01 03:00:00',\n",
       "               '2022-01-01 04:00:00', '2022-01-01 05:00:00',\n",
       "               '2022-01-01 06:00:00', '2022-01-01 07:00:00',\n",
       "               '2022-01-01 08:00:00', '2022-01-01 09:00:00',\n",
       "               ...\n",
       "               '2022-02-28 15:00:00', '2022-02-28 16:00:00',\n",
       "               '2022-02-28 17:00:00', '2022-02-28 18:00:00',\n",
       "               '2022-02-28 19:00:00', '2022-02-28 20:00:00',\n",
       "               '2022-02-28 21:00:00', '2022-02-28 22:00:00',\n",
       "               '2022-02-28 23:00:00', '2022-03-01 00:00:00'],\n",
       "              dtype='datetime64[ns]', length=1417, freq='H')"
      ]
     },
     "execution_count": 8,
     "metadata": {},
     "output_type": "execute_result"
    }
   ],
   "source": [
    "pd.date_range(\"2022-1-1\", \"2022-3-1\", freq='H')"
   ]
  },
  {
   "cell_type": "markdown",
   "id": "a6701a97",
   "metadata": {},
   "source": [
    "# 转化为时间戳"
   ]
  },
  {
   "cell_type": "code",
   "execution_count": 9,
   "id": "00125b9b",
   "metadata": {},
   "outputs": [
    {
     "data": {
      "text/plain": [
       "DatetimeIndex(['2022-01-01', '2022-01-02', '2022-01-03', '2022-01-04'], dtype='datetime64[ns]', freq=None)"
      ]
     },
     "execution_count": 9,
     "metadata": {},
     "output_type": "execute_result"
    }
   ],
   "source": [
    "pd.to_datetime([\"2022-1-1\", \"2022-1-2\", \"2022-1-3\", \"2022-1-4\"])"
   ]
  },
  {
   "cell_type": "markdown",
   "id": "70ceedff",
   "metadata": {},
   "source": [
    "# 创建时间周期"
   ]
  },
  {
   "cell_type": "code",
   "execution_count": 10,
   "id": "a95086b7",
   "metadata": {},
   "outputs": [
    {
     "data": {
      "text/plain": [
       "PeriodIndex(['2016-01-01', '2016-01-02', '2016-01-03', '2016-01-04',\n",
       "             '2016-01-05', '2016-01-06', '2016-01-07', '2016-01-08',\n",
       "             '2016-01-09', '2016-01-10',\n",
       "             ...\n",
       "             '2017-12-23', '2017-12-24', '2017-12-25', '2017-12-26',\n",
       "             '2017-12-27', '2017-12-28', '2017-12-29', '2017-12-30',\n",
       "             '2017-12-31', '2018-01-01'],\n",
       "            dtype='period[D]', length=732, freq='D')"
      ]
     },
     "execution_count": 10,
     "metadata": {},
     "output_type": "execute_result"
    }
   ],
   "source": [
    "pd.period_range('2016','2018', freq='D')"
   ]
  },
  {
   "cell_type": "code",
   "execution_count": 11,
   "id": "c43a25e2",
   "metadata": {},
   "outputs": [
    {
     "data": {
      "text/plain": [
       "PeriodIndex(['2016', '2017', '2018'], dtype='period[A-DEC]', freq='A-DEC')"
      ]
     },
     "execution_count": 11,
     "metadata": {},
     "output_type": "execute_result"
    }
   ],
   "source": [
    "pd.period_range('2016','2018', freq='Y')"
   ]
  },
  {
   "cell_type": "markdown",
   "id": "bb6e133e",
   "metadata": {},
   "source": [
    "# 创建指定天数的日期范围"
   ]
  },
  {
   "cell_type": "code",
   "execution_count": 12,
   "id": "564bcf09",
   "metadata": {},
   "outputs": [
    {
     "data": {
      "text/plain": [
       "DatetimeIndex(['2022-01-01', '2022-01-02', '2022-01-03', '2022-01-04',\n",
       "               '2022-01-05', '2022-01-06', '2022-01-07', '2022-01-08',\n",
       "               '2022-01-09', '2022-01-10'],\n",
       "              dtype='datetime64[ns]', freq='D')"
      ]
     },
     "execution_count": 12,
     "metadata": {},
     "output_type": "execute_result"
    }
   ],
   "source": [
    "pd.date_range(\"2022-1-1\", periods=10)"
   ]
  },
  {
   "cell_type": "markdown",
   "id": "a706f160",
   "metadata": {},
   "source": [
    "# 字符串日期转换为 datetime 类型"
   ]
  },
  {
   "cell_type": "code",
   "execution_count": 13,
   "id": "58758e20",
   "metadata": {},
   "outputs": [],
   "source": [
    "date_str1 = \"2022-1-12\""
   ]
  },
  {
   "cell_type": "code",
   "execution_count": 14,
   "id": "c35b9c2d",
   "metadata": {},
   "outputs": [
    {
     "data": {
      "text/plain": [
       "datetime.datetime(2022, 1, 12, 0, 0)"
      ]
     },
     "execution_count": 14,
     "metadata": {},
     "output_type": "execute_result"
    }
   ],
   "source": [
    "datetime.strptime(date_str1, \"%Y-%m-%d\")"
   ]
  },
  {
   "cell_type": "markdown",
   "id": "d2117703",
   "metadata": {},
   "source": [
    "# 格式化日期"
   ]
  },
  {
   "cell_type": "code",
   "execution_count": 15,
   "id": "a9b1649f",
   "metadata": {},
   "outputs": [
    {
     "data": {
      "text/plain": [
       "'2022-01-25 18:04:38'"
      ]
     },
     "execution_count": 15,
     "metadata": {},
     "output_type": "execute_result"
    }
   ],
   "source": [
    "datetime.now().strftime(\"%Y-%m-%d %H:%M:%S\")"
   ]
  },
  {
   "cell_type": "code",
   "execution_count": 16,
   "id": "4dec0e12",
   "metadata": {},
   "outputs": [
    {
     "data": {
      "text/plain": [
       "'2022'"
      ]
     },
     "execution_count": 16,
     "metadata": {},
     "output_type": "execute_result"
    }
   ],
   "source": [
    "datetime.now().strftime(\"%Y\")"
   ]
  },
  {
   "cell_type": "code",
   "execution_count": 17,
   "id": "6a0ea11b",
   "metadata": {},
   "outputs": [
    {
     "data": {
      "text/plain": [
       "'01'"
      ]
     },
     "execution_count": 17,
     "metadata": {},
     "output_type": "execute_result"
    }
   ],
   "source": [
    "datetime.now().strftime(\"%m\")"
   ]
  },
  {
   "cell_type": "code",
   "execution_count": 18,
   "id": "9e4f7a3c",
   "metadata": {},
   "outputs": [
    {
     "data": {
      "text/plain": [
       "'25'"
      ]
     },
     "execution_count": 18,
     "metadata": {},
     "output_type": "execute_result"
    }
   ],
   "source": [
    "datetime.now().strftime(\"%d\")"
   ]
  },
  {
   "cell_type": "markdown",
   "id": "60bf0183",
   "metadata": {},
   "source": [
    "# 获取一年中的哪一天，一周中的那一天等信息"
   ]
  },
  {
   "cell_type": "code",
   "execution_count": 19,
   "id": "9fc0738c",
   "metadata": {},
   "outputs": [],
   "source": [
    "# https://blog.csdn.net/qq_42965915/article/details/107585814"
   ]
  },
  {
   "cell_type": "code",
   "execution_count": null,
   "id": "9c5f33fa",
   "metadata": {},
   "outputs": [],
   "source": []
  }
 ],
 "metadata": {
  "kernelspec": {
   "display_name": "Python 3 (ipykernel)",
   "language": "python",
   "name": "python3"
  },
  "language_info": {
   "codemirror_mode": {
    "name": "ipython",
    "version": 3
   },
   "file_extension": ".py",
   "mimetype": "text/x-python",
   "name": "python",
   "nbconvert_exporter": "python",
   "pygments_lexer": "ipython3",
   "version": "3.7.10"
  },
  "toc": {
   "base_numbering": 1,
   "nav_menu": {},
   "number_sections": true,
   "sideBar": true,
   "skip_h1_title": false,
   "title_cell": "Table of Contents",
   "title_sidebar": "Contents",
   "toc_cell": false,
   "toc_position": {},
   "toc_section_display": true,
   "toc_window_display": true
  }
 },
 "nbformat": 4,
 "nbformat_minor": 5
}
